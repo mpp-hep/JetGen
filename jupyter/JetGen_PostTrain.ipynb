{
 "cells": [
  {
   "cell_type": "code",
   "execution_count": 15,
   "metadata": {},
   "outputs": [],
   "source": [
    "import os\n",
    "import numpy as np\n",
    "import h5py\n",
    "import glob\n",
    "import itertools\n",
    "import sys\n",
    "from sklearn.utils import shuffle\n",
    "import glob"
   ]
  },
  {
   "cell_type": "code",
   "execution_count": 29,
   "metadata": {},
   "outputs": [],
   "source": [
    "import matplotlib.pyplot as plt\n",
    "from matplotlib.colors import LogNorm\n",
    "%matplotlib inline"
   ]
  },
  {
   "cell_type": "code",
   "execution_count": 16,
   "metadata": {},
   "outputs": [
    {
     "name": "stdout",
     "output_type": "stream",
     "text": [
      "(109984, 100, 3) (109984, 100, 3) (109984, 4) (109984, 4)\n"
     ]
    }
   ],
   "source": [
    "datasets = [np.array([]), np.array([]), np.array([]), np.array([])]\n",
    "dataNames = [\"genJetConstituents\", \"recoJetConstituents\", \"genJetFeatures\", \"recoJetFeatures\"]\n",
    "for fileIN in glob.glob(\"../data/*h5\"):\n",
    "    f = h5py.File(fileIN,\"r\")\n",
    "    for i in range(4):\n",
    "        mydata = f.get(dataNames[i])\n",
    "        datasets[i] = np.concatenate((datasets[i], mydata), axis=0) if datasets[i].size else mydata\n",
    "genJetParticles = datasets[0]\n",
    "recoJetParticles = datasets[1]\n",
    "genJet = datasets[2]\n",
    "recoJet = datasets[3]\n",
    "print(genJetParticles.shape, recoJetParticles.shape, genJet.shape, recoJet.shape)"
   ]
  },
  {
   "cell_type": "code",
   "execution_count": 23,
   "metadata": {},
   "outputs": [
    {
     "name": "stdout",
     "output_type": "stream",
     "text": [
      "(109984, 10)\n",
      "(109984, 14)\n"
     ]
    }
   ],
   "source": [
    "# add the \"noisy\" latent space variables to the genjet dataset\n",
    "rndVars = np.random.normal(0., 1., (genJet.shape[0],10))\n",
    "print(rndVars.shape)\n",
    "genJet = np.concatenate((genJet,rndVars), axis =1)\n",
    "print(genJet.shape)"
   ]
  },
  {
   "cell_type": "code",
   "execution_count": 17,
   "metadata": {},
   "outputs": [],
   "source": [
    "nameModel = 'JetGen_0'"
   ]
  },
  {
   "cell_type": "code",
   "execution_count": 18,
   "metadata": {},
   "outputs": [
    {
     "name": "stderr",
     "output_type": "stream",
     "text": [
      "W0805 11:46:20.513682 4522329536 deprecation.py:506] From /usr/local/lib/python3.7/site-packages/keras/backend/tensorflow_backend.py:3445: calling dropout (from tensorflow.python.ops.nn_ops) with keep_prob is deprecated and will be removed in a future version.\n",
      "Instructions for updating:\n",
      "Please use `rate` instead of `keep_prob`. Rate should be set to `rate = 1 - keep_prob`.\n"
     ]
    },
    {
     "name": "stdout",
     "output_type": "stream",
     "text": [
      "Loaded model from disk\n",
      "__________________________________________________________________________________________________\n",
      "Layer (type)                    Output Shape         Param #     Connected to                     \n",
      "==================================================================================================\n",
      "input_144 (InputLayer)          (None, 14)           0                                            \n",
      "__________________________________________________________________________________________________\n",
      "noise1 (BatchNormalization)     (None, 14)           56          input_144[0][0]                  \n",
      "__________________________________________________________________________________________________\n",
      "noise2 (Dense)                  (None, 100)          1500        noise1[0][0]                     \n",
      "__________________________________________________________________________________________________\n",
      "noise3 (Dense)                  (None, 300)          30300       noise2[0][0]                     \n",
      "__________________________________________________________________________________________________\n",
      "input_145 (InputLayer)          (None, 100, 3)       0                                            \n",
      "__________________________________________________________________________________________________\n",
      "noise4 (Reshape)                (None, 100, 3)       0           noise3[0][0]                     \n",
      "__________________________________________________________________________________________________\n",
      "gen1 (BatchNormalization)       (None, 100, 3)       12          input_145[0][0]                  \n",
      "__________________________________________________________________________________________________\n",
      "noise5 (BatchNormalization)     (None, 100, 3)       12          noise4[0][0]                     \n",
      "__________________________________________________________________________________________________\n",
      "gen3 (Concatenate)              (None, 100, 6)       0           gen1[0][0]                       \n",
      "                                                                 noise5[0][0]                     \n",
      "__________________________________________________________________________________________________\n",
      "gen4 (Reshape)                  (None, 100, 6, 1)    0           gen3[0][0]                       \n",
      "__________________________________________________________________________________________________\n",
      "conv2d_49 (Conv2D)              (None, 100, 1, 3)    57          gen4[0][0]                       \n",
      "__________________________________________________________________________________________________\n",
      "dropout_2 (Dropout)             (None, 100, 1, 3)    0           conv2d_49[0][0]                  \n",
      "__________________________________________________________________________________________________\n",
      "batch_normalization_74 (BatchNo (None, 100, 1, 3)    12          dropout_2[0][0]                  \n",
      "__________________________________________________________________________________________________\n",
      "reshape_74 (Reshape)            (None, 100, 3)       0           batch_normalization_74[0][0]     \n",
      "__________________________________________________________________________________________________\n",
      "add_19 (Add)                    (None, 100, 3)       0           reshape_74[0][0]                 \n",
      "                                                                 input_145[0][0]                  \n",
      "__________________________________________________________________________________________________\n",
      "reshape_75 (Reshape)            (None, 100, 3, 1)    0           add_19[0][0]                     \n",
      "__________________________________________________________________________________________________\n",
      "reshape_76 (Reshape)            (None, 100, 3)       0           reshape_75[0][0]                 \n",
      "==================================================================================================\n",
      "Total params: 31,949\n",
      "Trainable params: 0\n",
      "Non-trainable params: 31,949\n",
      "__________________________________________________________________________________________________\n"
     ]
    }
   ],
   "source": [
    "# import the Generator model\n",
    "from keras.models import model_from_json\n",
    "json_file = open('../models/%s_GENERATOR.json' %nameModel)\n",
    "loaded_model_json = json_file.read()\n",
    "json_file.close()\n",
    "genModel = model_from_json(loaded_model_json)\n",
    "# load weights into new model\n",
    "genModel.load_weights(\"../models/%s_GENERATOR.h5\" %nameModel)\n",
    "print(\"Loaded model from disk\")\n",
    "for l in genModel.layers: \n",
    "    l.trainable=False\n",
    "genModel.summary()"
   ]
  },
  {
   "cell_type": "code",
   "execution_count": 19,
   "metadata": {},
   "outputs": [],
   "source": [
    "# traininig history\n",
    "history = h5py.File(\"../models/%s_history.h5\" %nameModel)\n",
    "training_loss = history.get(\"training_loss\")\n",
    "validation_loss = history.get(\"validation_loss\")\n",
    "epochs = np.array(range(len(training_loss)))"
   ]
  },
  {
   "cell_type": "code",
   "execution_count": 20,
   "metadata": {},
   "outputs": [
    {
     "data": {
      "image/png": "[encoded data removed]",
      "text/plain": [
       "<Figure size 432x288 with 1 Axes>"
      ]
     },
     "metadata": {
      "needs_background": "light"
     },
     "output_type": "display_data"
    }
   ],
   "source": [
    "# compare prediction to true value\n",
    "plt.plot(epochs, training_loss, label=\"Training Loss\")\n",
    "plt.plot(epochs, validation_loss, label=\"Validation Loss\")\n",
    "plt.ylabel('EMD Loss')\n",
    "plt.xlabel('Epoch')\n",
    "plt.legend()\n",
    "plt.show()"
   ]
  },
  {
   "cell_type": "code",
   "execution_count": 25,
   "metadata": {},
   "outputs": [],
   "source": [
    "# what did we generate?\n",
    "genData = genModel.predict([genJet, genJetParticles])"
   ]
  },
  {
   "cell_type": "code",
   "execution_count": 26,
   "metadata": {},
   "outputs": [
    {
     "name": "stdout",
     "output_type": "stream",
     "text": [
      "(109984, 100, 3)\n"
     ]
    }
   ],
   "source": [
    "print(genData.shape)"
   ]
  },
  {
   "cell_type": "code",
   "execution_count": 43,
   "metadata": {},
   "outputs": [],
   "source": [
    "pTGen = np.reshape(genJetParticles[:,:,0], (genData.shape[0]*genData.shape[1],))\n",
    "etaGen = np.reshape(genJetParticles[:,:,1], (genData.shape[0]*genData.shape[1],))\n",
    "phiGen = np.reshape(genJetParticles[:,:,2], (genData.shape[0]*genData.shape[1],))"
   ]
  },
  {
   "cell_type": "code",
   "execution_count": 44,
   "metadata": {},
   "outputs": [],
   "source": [
    "pTDFS = np.reshape(genData[:,:,0], (genData.shape[0]*genData.shape[1],))\n",
    "etaDFS = np.reshape(genData[:,:,1], (genData.shape[0]*genData.shape[1],))\n",
    "phiDFS = np.reshape(genData[:,:,2], (genData.shape[0]*genData.shape[1],))"
   ]
  },
  {
   "cell_type": "code",
   "execution_count": 35,
   "metadata": {},
   "outputs": [],
   "source": [
    "pTTrue = np.reshape(recoJetParticles[:,:,0], (recoJetParticles.shape[0]*recoJetParticles.shape[1],))\n",
    "etaTrue = np.reshape(recoJetParticles[:,:,1], (recoJetParticles.shape[0]*recoJetParticles.shape[1],))\n",
    "phiTrue = np.reshape(recoJetParticles[:,:,2], (recoJetParticles.shape[0]*recoJetParticles.shape[1],))"
   ]
  },
  {
   "cell_type": "code",
   "execution_count": 46,
   "metadata": {},
   "outputs": [
    {
     "data": {
      "image/png": "[encoded data removed]",
      "text/plain": [
       "<Figure size 432x288 with 1 Axes>"
      ]
     },
     "metadata": {
      "needs_background": "light"
     },
     "output_type": "display_data"
    }
   ],
   "source": [
    "# compare prediction to true value\n",
    "plt.hist(pTGen, range=(0., 1000.), bins=100, label=\"GEN Jets\", histtype='step')\n",
    "plt.hist(pTDFS, range=(0., 1000.), bins=100, label=\"DeepFastSim Jets\", histtype='step')\n",
    "plt.hist(pTTrue, range=(0., 1000.), bins=100, label=\"RECO Jets\", histtype='step')\n",
    "plt.ylabel('Events')\n",
    "plt.xlabel('Jet pT [GeV]')\n",
    "plt.semilogy()\n",
    "plt.legend()\n",
    "plt.show()"
   ]
  },
  {
   "cell_type": "code",
   "execution_count": 48,
   "metadata": {},
   "outputs": [
    {
     "data": {
      "image/png": "[encoded data removed]",
      "text/plain": [
       "<Figure size 432x288 with 1 Axes>"
      ]
     },
     "metadata": {
      "needs_background": "light"
     },
     "output_type": "display_data"
    }
   ],
   "source": [
    "# compare prediction to true value\n",
    "plt.hist(etaGen, range=(-5., 5.), bins=100, label=\"GEN Jets\", histtype='step')\n",
    "plt.hist(etaDFS, range=(-5., 5.), bins=100, label=\"DeepFastSim Jets\", histtype='step')\n",
    "plt.hist(etaTrue, range=(-5., 5.), bins=100, label=\"RECO Jets\", histtype='step')\n",
    "plt.ylabel('Events')\n",
    "plt.xlabel('Jet eta [GeV]')\n",
    "plt.semilogy()\n",
    "plt.legend()\n",
    "plt.show()"
   ]
  },
  {
   "cell_type": "code",
   "execution_count": 49,
   "metadata": {},
   "outputs": [
    {
     "data": {
      "image/png": "[encoded data removed]",
      "text/plain": [
       "<Figure size 432x288 with 1 Axes>"
      ]
     },
     "metadata": {
      "needs_background": "light"
     },
     "output_type": "display_data"
    }
   ],
   "source": [
    "# compare prediction to true value\n",
    "plt.hist(phiGen, range=(-5., 5.), bins=100, label=\"GEN Jets\", histtype='step')\n",
    "plt.hist(phiDFS, range=(-5., 5.), bins=100, label=\"DeepFastSim Jets\", histtype='step')\n",
    "plt.hist(phiTrue, range=(-5., 5.), bins=100, label=\"RECO Jets\", histtype='step')\n",
    "plt.ylabel('Events')\n",
    "plt.xlabel('Jet phi [GeV]')\n",
    "plt.semilogy()\n",
    "plt.legend()\n",
    "plt.show()"
   ]
  },
  {
   "cell_type": "code",
   "execution_count": null,
   "metadata": {},
   "outputs": [],
   "source": []
  }
 ],
 "metadata": {
  "kernelspec": {
   "display_name": "Python 3",
   "language": "python",
   "name": "python3"
  },
  "language_info": {
   "codemirror_mode": {
    "name": "ipython",
    "version": 3
   },
   "file_extension": ".py",
   "mimetype": "text/x-python",
   "name": "python",
   "nbconvert_exporter": "python",
   "pygments_lexer": "ipython3",
   "version": "3.7.3"
  }
 },
 "nbformat": 4,
 "nbformat_minor": 2
}
